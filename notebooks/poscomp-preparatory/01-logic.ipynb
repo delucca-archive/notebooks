{
 "cells": [
  {
   "cell_type": "markdown",
   "metadata": {},
   "source": [
    "# Logic\n",
    "\n",
    "**Table of contents**\n",
    "* [Pending classes to review](#Pending-classes-to-review)\n",
    "* [Class 008](#Class-008)\n",
    "  * [Necessity and Sufficiency](#Necessity-and-Sufficiency)\n",
    "  * [Types of logical relationships](#Types-of-logical-relationships)\n",
    "* [Class 009](#Class-009)\n",
    "  * [Normal Disjunctive Form](#Normal-Disjunctive-Form)\n",
    "  * [Contraposition](#Contraposition)\n",
    "  * [Inversion](#Inversion)\n",
    "  * [Reciprocity](#Reciprocity)\n",
    "  * [Propositional Logic](#Propositional-Logic)\n",
    "* [Class 012](#Class-12)\n",
    "  * [Contradiction](#Contradiction)\n",
    "  * [Syllogism](#Syllogism)\n",
    "  * [Theorem](#Theorem)\n",
    "  * [Hypothesis](#Hypothesis)\n",
    "  * [Bicondicional tautology](#Bicondicional-tautology)\n",
    "  * [Metalanguage](#Metalanguage)\n",
    "  * [General Normal Disjunctive Form](#General-Normal-Disjunctive-Form)\n",
    "* [Class 013](#Class-013)\n",
    "  * [Conjunctive Normal Form](#Conjunctive-Normal-Form)\n",
    "  * [General Cojunctive Normal Form](#General-Conjunctive-Normal-Form)\n",
    "  * [Contingency](#Contingency)\n",
    "  * [First-order logic](#First-order-logic)\n",
    "  * [First-order logic - Every quantifier](#First-order-logic-Every-quantifier)\n",
    "  * [First-order logic - None quantifier](#First-order-logic-None-quantifier)\n",
    "  * [Russel's paradox](#Russel-s-paradox)\n",
    "* [Class 014](#Class-014)\n",
    "  * [None Quantifier](#None-Quantifier)\n",
    "  * [Exists Quantifier](#Exists-Quantifier)\n",
    "  * [Unary predicate](#Unary-predicate)\n",
    "  * [De Morgan applied to quantifiers](#De-Morgar-applied-to-quantifiers)\n",
    "  * [Multiple quantifiers](#Multiple-quantifiers)\n",
    "  * [Understanding orders](#Understanding-orders)\n",
    "\n"
   ]
  },
  {
   "cell_type": "markdown",
   "metadata": {},
   "source": [
    "## Pending classes to review\n",
    "\n",
    "* Class 011\n",
    "* Class 010\n",
    "* Class 007\n",
    "* Class 006\n",
    "* Class 005\n",
    "* Class 004\n",
    "* Class 003"
   ]
  },
  {
   "cell_type": "markdown",
   "metadata": {},
   "source": [
    "## Class 008\n",
    "\n",
    "> **Date:** 2021-04-13  \n",
    "> **Subjects:**\n",
    "> * [Necessity and Sufficiency](#Necessity-and-Sufficiency)\n",
    "> * [Types of logical relationships](#Types-of-logical-relationships)\n",
    "> \n",
    "> **References:**\n",
    "> * [Recorded class][class-recording]\n",
    "> * [Notebook][class-notebook]\n",
    "> * [Class Screen 01][screen-01]\n",
    "> * [Class Screen 02][screen-02]\n",
    "\n",
    "[class-recording]: https://drive.google.com/file/d/1FzheMyGaANq8VHS8e9793k_4aLuVVZ7j/view?usp=sharing\n",
    "[class-notebook]: https://drive.google.com/file/d/1ypSKOrFHnQvnop7EkA0jKADWVD5yta1B/view?usp=sharing\n",
    "[screen-01]: https://drive.google.com/file/d/18kPnHg-uCZ-SD2gU2ITnxmxvJ2m4UxPu/view?usp=sharing\n",
    "[screen-02]: https://drive.google.com/file/d/1EaaqP4SY2Q1fdVRTQ0rRRRNVf8PZf5LK/view?usp=sharing"
   ]
  },
  {
   "cell_type": "markdown",
   "metadata": {},
   "source": [
    "### Necessity and Sufficiency\n",
    "\n",
    "Those are terms used to describe a conditional relationship between two statements. Usually, we define those statemets as:\n",
    "\n",
    "$$P$$\n",
    "$$Q$$\n",
    "\n",
    "Where $P$ is the first statement, and $Q$ is the second one.\n",
    "\n",
    "**In a sufficiency relationship** we consider the following logic statement to be `true`:\n",
    "$$P \\longrightarrow Q$$\n",
    "\n",
    "So, `if P` `then Q`. For example:\n",
    "\n",
    "$$\\text{If Plato doesn't know, them no one knows}$$\n",
    "\n",
    "The above example creates a sufficiency relationship, where `Plato doesn't know` is $P$ and `no one knows` is $Q$. Considering this:\n",
    "\n",
    "$$P \\longrightarrow Q$$\n",
    "$$\\text{Plato doesn't know} \\longrightarrow \\text{no one knows}$$\n",
    "\n",
    "Alternatively, **in a necessity relationship**, we have the reciprocal logic. Basically, saying that $P$ is a necessary condition for $Q$ is the same as saying:\n",
    "\n",
    "$$Q \\longrightarrow P$$\n",
    "\n",
    "For example, we can say the following statement:\n",
    "\n",
    "$$\\text {If someone gets home, my dog will bark}$$\n",
    "\n",
    "So, in this example we have:\n",
    "\n",
    "$$\n",
    "P = \\text{someone gets home} \\\\\n",
    "Q = \\text{my dog barks}\n",
    "$$\n",
    "\n",
    "Saying that is the same as saying `My dog barks is a necessity condition for someone to get home`, so:\n",
    "\n",
    "$$\n",
    "Q \\longrightarrow P \\\\\n",
    "\\text{my dog barks} \\longrightarrow \\text{someone gets home}\n",
    "$$\n",
    "\n",
    "#### Wrapping it up\n",
    "* **Sufficiency:** $P \\longrightarrow Q$ ($P$ implies $Q$)\n",
    "* **Necessity:** $Q \\longrightarrow P$ ($Q$ implies $P$)"
   ]
  },
  {
   "cell_type": "markdown",
   "metadata": {},
   "source": [
    "### Types of logical relationships\n",
    "\n",
    "According to my teacher, there are only 10 types of possible logical relationships. We can use those types as we please, but any proposition could be built by using some of those. They are:\n",
    "\n",
    "| Number | Relationship |\n",
    "|--------|--------------|\n",
    "| 01 | $x\\ \\text{is}\\ P$ |\n",
    "| 02 | $x\\ \\text{is in the relationship of}\\ A\\ \\text{with}\\ B$ |\n",
    "| 03 | $\\text{All}\\ A\\ \\text{is}\\ B$ |\n",
    "| 04 | $\\text{Some}\\ A\\ \\text{is}\\ B$ |\n",
    "| 05 | $\\text{No}\\ A\\ \\text{is}\\ B$ |\n",
    "| 06 | $\\text{It is not true that}\\ P$ |\n",
    "| 07 | $P\\ \\text{and}\\ Q$ |\n",
    "| 08 | $P\\ \\text{or}\\ Q$ |\n",
    "| 09 | $\\text{If}\\ P\\text{,}\\ \\text{then}\\ Q$ |\n",
    "| 10 | $P \\text{, se e somente se,}\\ Q$ |"
   ]
  },
  {
   "cell_type": "markdown",
   "metadata": {},
   "source": [
    "## Class 009\n",
    "\n",
    "> **Date:** 2021-04-15  \n",
    "> **Subjects:**  \n",
    "> * [Normal Disjunctive Form](#Normal-Disjunctive-Form)\n",
    "> * [Contraposition](#Contraposition)\n",
    "> * [Inversion](#Inversion)\n",
    "> * [Reciprocity](#Reciprocity)\n",
    "> * [Propositional Logic](#Propositional-Logic)\n",
    "> \n",
    "> **References:** \n",
    "> * [Recorded class][class-recording]\n",
    "> * [Notebook][class-notebook]\n",
    "> * [Class Screen 01][screen-01]\n",
    "\n",
    "[class-recording]: https://drive.google.com/file/d/1Y6phKqdnN2uOuoEzDZVbD5SXRG4HLxit/view?usp=sharing\n",
    "[class-notebook]: https://drive.google.com/file/d/1ypSKOrFHnQvnop7EkA0jKADWVD5yta1B/view?usp=sharing\n",
    "[screen-01]: https://drive.google.com/file/d/1Jhx8oBU_gsUQCL6Dpag0IopOe5lzNuuw/view?usp=sharing"
   ]
  },
  {
   "cell_type": "markdown",
   "metadata": {},
   "source": [
    "### Normal Disjunctive Form\n",
    "\n",
    "Consider the following proposition:\n",
    "\n",
    "$$P \\longrightarrow Q$$\n",
    "\n",
    "The **Normal Disjunctive Form** states that we can write any conditional in a disjunctive ($\\lor$) form. So, we state that:\n",
    "\n",
    "$$P \\longrightarrow Q \\equiv\\ \\sim P \\lor Q$$\n",
    "\n",
    "Apllying this to natural language:\n",
    "\n",
    "$$\\text{Se Newton não sabe, então ninguém sabe} \\\\\n",
    "P = \\text{Newton não sabe} \\\\\n",
    "Q = \\text{Ninguém sabe} \\\\\n",
    "\\therefore \\\\\n",
    "P \\longrightarrow Q \\equiv\\ \\sim P \\lor Q \\\\\n",
    "\\therefore \\\\\n",
    "\\text{Ou Newton sabe, ou ninguém sabe}$$\n",
    "\n",
    "To prove that, we can use truth tables. Two propositions are logic equivalent if they have the same truth table. So:\n",
    "\n",
    "| P | Q | $P \\longrightarrow Q$ |\n",
    "|-|-|-|\n",
    "| V | V | V |\n",
    "| V | F | F |\n",
    "| F | V | V |\n",
    "| F | F | V |\n",
    "\n",
    "&nbsp;\n",
    "\n",
    "| P | Q | $\\sim P \\lor Q$ |\n",
    "| - | - | - |\n",
    "| V | V | V |\n",
    "| V | F | F |\n",
    "| F | V | V |\n",
    "| F | F | V |"
   ]
  },
  {
   "cell_type": "markdown",
   "metadata": {},
   "source": [
    "### Contraposition\n",
    "\n",
    "For all conditional sentences, there is a logic equivalence between that sentence and it's contrapositive. A contrapositive sentence happens when **the antecedent and consequent are reversed and their logic values are inverted**. For example:\n",
    "\n",
    "$$\n",
    "\\text{Positive:}\\ P \\longrightarrow Q\\\\\n",
    "\\text{Contrapositive:}\\ \\lnot\\ Q \\longrightarrow \\lnot\\ P\n",
    "$$"
   ]
  },
  {
   "cell_type": "markdown",
   "metadata": {},
   "source": [
    "### Inversion\n",
    "\n",
    "The inverse is a type of sentence that is an inference made after a given conditional sentence. In a inverse relation, we can basically deny both the antecedent and consequent of a given sentence. For example:\n",
    "\n",
    "$$\n",
    "P \\longrightarrow Q \\\\\n",
    "\\text{Inverse:}\\ \\lnot\\ P \\longrightarrow\\ \\lnot\\ Q\n",
    "$$"
   ]
  },
  {
   "cell_type": "markdown",
   "metadata": {},
   "source": [
    "### Reciprocity\n",
    "\n",
    "The reciprocity simply reverses the position of the antecedent and consequent, creating a new logical sentence. For example:\n",
    "\n",
    "$$\n",
    "P \\longrightarrow\\ Q \\\\\n",
    "\\text{Reciprocal:}\\ Q \\longrightarrow\\ P\n",
    "$$"
   ]
  },
  {
   "cell_type": "markdown",
   "metadata": {},
   "source": [
    "### Propositional Logic\n",
    "\n",
    "The propositional logic uses two valid rules of replacement to expand individual occurrences of certain logical connectives. The rules are:\n",
    "\n",
    "$$\n",
    "(P \\land (Q \\lor R)) \\Longleftrightarrow ((P \\land Q) \\lor (P \\land R)) \\\\\n",
    "\\text{and} \\\\\n",
    "(P \\lor (Q \\land R)) \\Longleftrightarrow ((P \\lor Q) \\land (P \\lor R))\n",
    "$$\n",
    "\n",
    "The first one is also know as **distribution of conjunction on disjunction** and the second one is also know as **distribution of disjunction on conjunction**.\n",
    "\n",
    "There are also others distributive rules that are worth noting:\n",
    "\n",
    "* **Distribution of conjunction over conjunction:** $(P \\land (Q \\land R)) \\Longleftrightarrow ((P \\land Q) \\land (P \\land R))$\n",
    "* **Distribution of conjunction over disjunction:** $(P \\land (Q \\lor R)) \\Longleftrightarrow ((P \\land Q) \\lor (P \\land R))$\n",
    "* **Distribution of disjunction over conjunction:** $(P \\lor (Q \\land R)) \\Longleftrightarrow ((P \\lor Q) \\land (P \\lor R))$\n",
    "* **Distribution of disjunction over disjunction:** $(P \\lor (Q \\lor R)) \\Longleftrightarrow ((P \\lor Q) \\lor (P \\lor R))$\n",
    "\n",
    "Also, considering other logical connectors, we have the following rules:\n",
    "\n",
    "* **Distribution of implication:** $(P \\longrightarrow (Q \\longrightarrow R)) \\Longleftrightarrow ((P \\longrightarrow Q) \\longrightarrow (P \\longrightarrow R))$\n",
    "* **Distribution of implication over equivalence:** $(P \\longrightarrow(Q \\longleftrightarrow R)) \\Longleftrightarrow ((P \\longrightarrow Q) \\longleftrightarrow (P \\longrightarrow R))$\n",
    "* **Distribution of implication over conjunction:** $(P \\longrightarrow(Q \\land R)) \\Longleftrightarrow ((P \\longrightarrow Q) \\land (P \\longrightarrow R))$\n",
    "* **Distribution of disjunction over equivalence:** $(P \\lor (Q \\longleftrightarrow R)) \\Longleftrightarrow ((P \\lor Q) \\longleftrightarrow (P \\lor R))$\n",
    "\n",
    "Regarding the relation between conjunction, disjunction, equivalence and implication, we can state that **implication relates with conjunction** while **equivalence relates with disjunction**."
   ]
  },
  {
   "cell_type": "markdown",
   "metadata": {},
   "source": [
    "## Class 012\n",
    "\n",
    "> **Date:** 2021-04-27  \n",
    "> **Subjects:**\n",
    "> * [Contradiction](#Contradiction)\n",
    "> * [Syllogism](#Syllogism)\n",
    "> * [Theorem](#Theorem)\n",
    "> * [Hypothesis](#Hypothesis)\n",
    "> * [Bicondicional tautology](#Bicondicional-tautology)\n",
    "> * [Metalanguage](#Metalanguage)\n",
    "> * [General Normal Disjunctive Form](#General-Normal-Disjunctive-Form)\n",
    ">\n",
    "> **References:** \n",
    "> * [Recorded class][class-recording]\n",
    "> * [Notebook][class-notebook]\n",
    "> * [Class Screen 01][class-screen-01]\n",
    "\n",
    "[class-recording]: https://drive.google.com/file/d/1KDwNR7Gjb1Avt8TzDZ2K_UGnMiKUfGqj/view?usp=sharing\n",
    "[class-notebook]: https://drive.google.com/file/d/1n6X511ThjCtCw8VtXqg9CGFwl6Te0paX/view?usp=sharing\n",
    "[class-screen-01]: https://drive.google.com/file/d/16ixodQB9jmloLTc0v4g38JppWBtSvWRM/view?usp=sharing"
   ]
  },
  {
   "cell_type": "markdown",
   "metadata": {},
   "source": [
    "### Contradiction\n",
    "\n",
    "A contradiction is a logical incompatibility between two or more propositions. It usually occurs when two propositions are opposed, like the **fundamental contradiction**:\n",
    "\n",
    "$$\n",
    "P \\land \\lnot P\n",
    "$$\n",
    "\n",
    "It is impossible for this statement to be $T$, since whenever $P$ is $T$, $\\lnot P$ will be $F$. We can state that by looking at that proposition truth table:\n",
    "\n",
    "| $P$ | $P \\land \\lnot P$ |\n",
    "|-|-|\n",
    "| $T$ | $F$ |\n",
    "| $F$ | $F$ |\n",
    "\n",
    "So, **contradictions always are $F$**."
   ]
  },
  {
   "cell_type": "markdown",
   "metadata": {},
   "source": [
    "### Syllogism\n",
    "\n",
    "A syllogism is a kind of logical argument that applies deductive reasonin to arrive at a conclusion, based on two or more propositions. Here is an example of syllogism:\n",
    "\n",
    "$$\n",
    "\\text{All people are mortal} \\\\\n",
    "\\text{Socrates is a person} \\\\\n",
    "\\text{Therefore, Socrates is moral}\n",
    "$$\n",
    "\n",
    "This is foundamental for both mathematic and philosophy.\n",
    "\n",
    "It is important to know that there is some types of logical arguments, containing multiple relations between those. You can learn more about them in the picture below:\n",
    "\n",
    "<img src=\"./assets/logic-syllogism-arguments-relations.png\" width=\"500px\" />"
   ]
  },
  {
   "cell_type": "markdown",
   "metadata": {},
   "source": [
    "### Theorem\n",
    "\n",
    "It is a non-self-evident statement that has been proven to be true. To prove that a theorem is true, we can either base on generally accepted statements (such as axioms) or on the basis of previously established statements such as other theorems."
   ]
  },
  {
   "cell_type": "markdown",
   "metadata": {},
   "source": [
    "### Hypothesis\n",
    "\n",
    "It is a proposed explanation for a phenomenon. To a hypothesis to be considered as valid, the science requires is to be testable."
   ]
  },
  {
   "cell_type": "markdown",
   "metadata": {},
   "source": [
    "### Bicondicional tautology\n",
    "\n",
    "We consider a biconditional ($\\Longleftrightarrow$) to be tautology if $P \\equiv Q$. Because:\n",
    "\n",
    "$$\n",
    "P \\Longleftrightarrow Q \\equiv \\\\\n",
    "(P \\to Q) \\land (Q \\to P) \\\\\n",
    "\\therefore \\\\\n",
    "\\text{if}\\ P \\equiv Q \\\\\n",
    "P \\to Q = T \\\\\n",
    "Q \\to Q = T\n",
    "$$\n",
    "\n",
    "A common for to express $P \\Longleftrigharrow Q$ is a Tautology is:\n",
    "$$\n",
    "P \\Rightarrow Q\n",
    "$$"
   ]
  },
  {
   "cell_type": "markdown",
   "metadata": {},
   "source": [
    "### Metalanguage\n",
    "\n",
    "A metalanguage is a language used to describe another language. The example above ($P \\Rightarrow Q$) is considered a metalanguage, since *\"is a tautology\"* is not a valid logical operator."
   ]
  },
  {
   "cell_type": "markdown",
   "metadata": {},
   "source": [
    "### General Normal Disjunctive Form\n",
    "\n",
    "This algorithm is used when we have a given truth-table and we want to find the Normal Disjunctive Form expression that generated that truth-table. It is a standard algorithm, with a couple of steps to follow.\n",
    "\n",
    "For example, given the following truth table:\n",
    "\n",
    "| $P$ | $Q$ | $P \\circ Q$ |\n",
    "|-|-|-|\n",
    "| $T$ | $T$ | $F$ |\n",
    "| $T$ | $F$ | $T$ |\n",
    "| $F$ | $T$ | $T$ |\n",
    "| $F$ | $F$ | $F$ |\n",
    "\n",
    "We must do the following:\n",
    "\n",
    "1. Filter only the lines where the final value is $T$\n",
    "\n",
    "| $P$ | $Q$ | $P \\circ Q$ |\n",
    "|-|-|-|\n",
    "| $T$ | $F$ | $T$ |\n",
    "| $F$ | $T$ | $T$ |\n",
    "\n",
    "2. For each line, we add a new column where we merge the variable with a conjunction, and reverse their values if that variable is $F$ in that line:\n",
    "\n",
    "| $P$ | $Q$ | $P \\circ Q$ | New column |\n",
    "|-|-|-|-|\n",
    "| $T$ | $F$ | $T$ | $P \\land \\lnot Q$ |\n",
    "| $F$ | $T$ | $T$ | $\\lnot P \\land Q$ |\n",
    "\n",
    "3. Now, we merge the new column with disjunctions, giving:\n",
    "$$\n",
    "(P \\land \\lnot Q) \\lor (\\lnot P \\land Q)\n",
    "$$\n",
    "\n",
    "That is the Normal Disjunctive Expression that generated that truth table\n"
   ]
  },
  {
   "cell_type": "markdown",
   "metadata": {},
   "source": [
    "## Class 013\n",
    "\n",
    "> **Date:** 2021-04-29  \n",
    "> **Subjects:**  \n",
    "> * [Conjunctive Normal Form](#Conjunctive-Normal-Form)\n",
    "> * [General Cojunctive Normal Form](#General-Conjunctive-Normal-Form)\n",
    "> * [Contingency](#Contingency)\n",
    "> * [First-order logic](#First-order-logic)\n",
    "> * [First-order logic - Every quantifier](#First-order-logic-Every-quantifier)\n",
    "> * [First-order logic - None quantifier](#First-order-logic-None-quantifier)\n",
    "> * [Russel's paradox](#Russel-s-paradox)\n",
    "> \n",
    "> **References:** \n",
    "> * [Recorded class][class-recording]\n",
    "> * [Notebook][class-notebook]\n",
    "\n",
    "[class-recording]: https://drive.google.com/file/d/1nUKWK7bqqvS9o2pnDWuOSf4C_tn-ItQc/view?usp=sharing\n",
    "[class-notebook]: https://drive.google.com/file/d/166sBf_DI5rxciOK1CXvlHbq1PWalKI3s/view?usp=sharing"
   ]
  },
  {
   "cell_type": "markdown",
   "metadata": {},
   "source": [
    "### Conjunctive Normal Form\n",
    "\n",
    "The Conjunctive Normal Form is the dual of the [Disjunctive Normal Form](#Disjunctive-Normal-Form). So, considering the following proposition:\n",
    "$$\n",
    "P \\to Q\n",
    "$$\n",
    "\n",
    "We can state that:\n",
    "* Normal form: $P \\to Q$\n",
    "* Disjunctive Normal Form: $\\lnot P \\lor Q$\n",
    "\n",
    "Them, the conjunctive normal form is: $ \\lnot(\\lnot P \\lor Q)$. So, the general form for the conjunctive normal form is:\n",
    "\n",
    "$$\n",
    "P \\land \\lnot Q\n",
    "$$"
   ]
  },
  {
   "cell_type": "markdown",
   "metadata": {},
   "source": [
    "### General Conjunctive Normal Form\n",
    "\n",
    "Like the [Conjunctive Normal Form](#Conjunctive-Normal-Form), the General Conjunctive Normal for is the dual of the [General Disjunctive Normal Form](#General-Disjunctive-Normal-Form). So, considering the following truth table:\n",
    "\n",
    "| $P$ | $Q$ | $P \\circ Q$ |\n",
    "|-|-|-|\n",
    "| $T$ | $T$ | $F$ |\n",
    "| $T$ | $F$ | $T$ |\n",
    "| $F$ | $T$ | $T$ |\n",
    "| $F$ | $F$ | $F$ |\n",
    "\n",
    "1. We filter only the $T$ results\n",
    "\n",
    "| $P$ | $Q$ | $P \\circ Q$ |\n",
    "|-|-|-|\n",
    "| $T$ | $F$ | $T$ |\n",
    "| $F$ | $T$ | $T$ |\n",
    "\n",
    "2. For each line, we create a new column merging each variable with a conjunction, and reversing it's value if that variable value is $F$\n",
    "\n",
    "| $P$ | $Q$ | $P \\circ Q$ | New column |\n",
    "|-|-|-|-|\n",
    "| $T$ | $F$ | $T$ | $P \\land \\lnot Q$ |\n",
    "| $F$ | $T$ | $T$ | $\\lnot P \\land Q$ |\n",
    "\n",
    "3. We merge (with disjunctions) each value of the new column, giving:\n",
    "\n",
    "$$\n",
    "(P \\land \\lnot Q) \\lor (\\lnot P \\land Q)\n",
    "$$\n",
    "\n",
    "The resulting statement is the Conjunctive Normal Form of the expression that generated that truth table.\n"
   ]
  },
  {
   "cell_type": "markdown",
   "metadata": {},
   "source": [
    "### Contingency\n",
    "\n",
    "In logic, a contingency is everything that is neither a [tautology](#Tautology) neither a [contradiction](#Contradiction)"
   ]
  },
  {
   "cell_type": "markdown",
   "metadata": {},
   "source": [
    "### First-order logic\n",
    "\n",
    "The first-order logic (also know as **predicate logic** or **first-order predicate calculus**), is a collection of formal systems that uses quantified variables to define sentences and have a better normalization over quantified statements. For example, it is common to state a phrase like:\n",
    "> All X are Y\n",
    "\n",
    "First-order logic normalizes those sentences, allowing us to use those in our logical transformations."
   ]
  },
  {
   "cell_type": "markdown",
   "metadata": {},
   "source": [
    "### First-order logic - Every quantifier\n",
    "\n",
    "The every quantifier is used in sentences like: $\\text{Every person is mortal}$\n",
    "\n",
    "Those propositions follow this pattern:\n",
    "\n",
    "$$\n",
    "\\text{Every person is mortal} \\equiv \\\\\n",
    "\\text{Every A is B} \\equiv \\\\\n",
    "\\text{For all X, if X is A, then X is B} \\equiv \\\\\n",
    "\\forall x(x \\in A \\to x \\in B) \\equiv \\\\\n",
    "\\forall x(A(x) \\to B(x)) \\equiv \\\\\n",
    "\\forall x(Ax \\to Bx)\n",
    "$$\n",
    "\n",
    "In logic, it is common to state \"functions\" like $A(x)$ as simply $Ax$"
   ]
  },
  {
   "cell_type": "markdown",
   "metadata": {},
   "source": [
    "### First-order logic - None quantifier\n",
    "\n",
    "The none quantifier uses the [exists quantifier](#First-order-logic-Exists-quantifier) to express propositons like: $\\text{None human is immortal}$. It has the form:\n",
    "\n",
    "$$\n",
    "\\lnot \\exists x (Hx \\to Ix)\n",
    "$$"
   ]
  },
  {
   "cell_type": "markdown",
   "metadata": {},
   "source": [
    "### Russel's paradox\n",
    "\n",
    "This paradox is also know as **The Barber Paradox**, that states the following:\n",
    "\n",
    "> Imagine a city where all men should shave. That city has only one barber, and that barber should shave only the men that doesn't shave themseves. Who shaves the barber?\n",
    "\n",
    "That is an interesting paradox, because if the barber shaves himself, he shouldn't, since he is the barber and he should only shave those who don't shave themselves.\n",
    "\n",
    "The Russel's paradox states the following:\n",
    "\n",
    "> Consider the set of all sets that are not members of themselves. Is that set a member of itself?"
   ]
  },
  {
   "cell_type": "markdown",
   "metadata": {},
   "source": [
    "## Class 014\n",
    "\n",
    "> **Date:** 2021-05-04  \n",
    "> **Subjects:**  \n",
    ">  * [None Quantifier](#None-Quantifier)\n",
    ">  * [Exists Quantifier](#Exists-Quantifier)\n",
    ">  * [Unary predicate](#Unary-predicate)\n",
    ">  * [De Morgan applied to quantifiers](#De-Morgar-applied-to-quantifiers)\n",
    ">  * [Multiple quantifiers](#Multiple-quantifiers)\n",
    ">  * [Understanding orders](#Understanding-orders)\n",
    "> \n",
    "> **References:** \n",
    "> * [Recorded class][class-recording]\n",
    "> * [Notebook][class-notebook]\n",
    "> * [Class Screen 1][class-screen-1]\n",
    "\n",
    "[class-recording]: https://drive.google.com/file/d/1onZaTUVJVV_vypue1HmVClwb8NZN0SW1/view?usp=sharing\n",
    "[class-notebook]: https://drive.google.com/file/d/166sBf_DI5rxciOK1CXvlHbq1PWalKI3s/view?usp=sharing\n",
    "[class-screen-1]: https://drive.google.com/file/d/1ynLojIEyCupFe2w1l_UcrHAekwzcyA3m/view?usp=sharing"
   ]
  },
  {
   "cell_type": "markdown",
   "metadata": {},
   "source": [
    "### None Quantifier\n",
    "\n",
    "Declaring a statement like: $\\text{No human is male}$ is the same as declaring $\\text{Is not true that all human is male}$. So, we can state the none negation of any sentence in the form of $P \\to Q$ with:\n",
    "$$\n",
    "\\forall x(Px \\to \\lnot Qx)\n",
    "$$"
   ]
  },
  {
   "cell_type": "markdown",
   "metadata": {},
   "source": [
    "### Exists Quantifier\n",
    "\n",
    "Another common quantifier is the **Exists**. It is represented by the symbol $\\exists$. We can say that like:\n",
    "\n",
    "$$\n",
    "\\text{Some human are male} \\equiv \\exists x (Hx \\to Mx)\n",
    "$$"
   ]
  },
  {
   "cell_type": "markdown",
   "metadata": {},
   "source": [
    "### Unary predicate\n",
    "\n",
    "An unary predicate is a boolean property (a flag) of a given object."
   ]
  },
  {
   "cell_type": "markdown",
   "metadata": {},
   "source": [
    "### De Morgan applied to quantifiers\n",
    "\n",
    "Following the De Morgan Rules, we can now generalize it to improve our definition regarding the denial of the for all quantifier and exists quantifier. So, we can state that:\n",
    "\n",
    "$$\n",
    "\\lnot \\forall x Fx \\equiv \\exists x \\lnot Fx \\\\\n",
    "\\lnot \\exists x Fx \\equiv \\forall x \\lnot Fx\n",
    "$$"
   ]
  },
  {
   "cell_type": "markdown",
   "metadata": {},
   "source": [
    "### Multiple quantifiers\n",
    "\n",
    "When dealing with multiple quantifiers, the order in which they appear makes difference. So, saying:\n",
    "$$\n",
    "\\forall x \\exists y p(x,y)\n",
    "$$\n",
    "\n",
    "Is **not** the same as saying:\n",
    "$$\n",
    "\\exists y \\forall x p(x, y)\n",
    "$$\n",
    "\n",
    "We usually solve them from right to left"
   ]
  },
  {
   "cell_type": "markdown",
   "metadata": {},
   "source": [
    "### Understanding orders\n",
    "\n",
    "Considering the propositional calculus, there are multiple \"types of orders\". We can have:\n",
    "\n",
    "* First-order logic\n",
    "* Second-order logic\n",
    "* Third-order logic\n",
    "* ...\n",
    "\n",
    "The cardinal number (first, second, ...) represents the \"depth\" of that logic. For example, the **first-order logic** handles with objects directly, while the **second-order logic** handles with \"collection of objectives\", and the **third-order logic** deals with \"collections of collections of objects\", and so forth.\n",
    "\n",
    "So, you can define that the cardinal before \"order\" represents the depth of your objects."
   ]
  },
  {
   "cell_type": "markdown",
   "metadata": {},
   "source": [
    "### Solving screen 1\n",
    "\n",
    "#### (1) Todo mundo admira alguém\n",
    "$$\n",
    "\\forall x \\exists y(Axy)\n",
    "$$\n",
    "\n",
    "#### (2) Todo mundo admira alguém que admira todo mundo\n",
    "$$\n",
    "\\forall x \\exists y \\forall z(Axy \\to Ayz)\n",
    "$$\n",
    "\n",
    "#### (3) Ninguém admira alguém que admire todo mundo\n",
    "$$\n",
    "\\exists x \\exists y \\forall z(Axy \\to \\lnot Ayz)\n",
    "$$"
   ]
  }
 ],
 "metadata": {
  "kernelspec": {
   "display_name": "Python 3.8.5 64-bit ('base': conda)",
   "name": "python385jvsc74a57bd098b0a9b7b4eaaa670588a142fd0a9b87eaafe866f1db4228be72b4211d12040f"
  },
  "language_info": {
   "name": "python",
   "version": ""
  },
  "metadata": {
   "interpreter": {
    "hash": "98b0a9b7b4eaaa670588a142fd0a9b87eaafe866f1db4228be72b4211d12040f"
   }
  },
  "orig_nbformat": 2
 },
 "nbformat": 4,
 "nbformat_minor": 2
}