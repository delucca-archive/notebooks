{
 "cells": [
  {
   "cell_type": "markdown",
   "metadata": {},
   "source": [
    "# Logic\n",
    "\n",
    "**Table of contents**\n",
    "* [Class 008](#Class-008)\n",
    "  * [Necessity and Sufficiency](#Necessity-and-Sufficiency)\n",
    "  * [Types of logical relationships](#Types-of-logical-relationships)\n",
    "* [Class 009](#Class-009)\n",
    "  * [Normal Disjunctive Form](#Normal-Disjunctive-Form)\n",
    "  * [Contraposition](#Contraposition)\n",
    "  * [Logical Distributive Properties](#Logical-Distributive-Properties)"
   ]
  },
  {
   "cell_type": "markdown",
   "metadata": {},
   "source": [
    "## Class 008\n",
    "\n",
    "> **Date:** 2021-04-13  \n",
    "> **Subjects:**\n",
    "> * [Necessity and Sufficiency](#Necessity-and-Sufficiency)\n",
    "> * [Types of logical relationships](#Types-of-logical-relationships)\n",
    "> \n",
    "> **References:**\n",
    "> * [Recorded class][class-recording]\n",
    "> * [Notebook][class-notebook]\n",
    "> * [Class Screen 01][screen-01]\n",
    "> * [Class Screen 02][screen-02]\n",
    "\n",
    "[class-recording]: https://drive.google.com/file/d/1FzheMyGaANq8VHS8e9793k_4aLuVVZ7j/view?usp=sharing\n",
    "[class-notebook]: https://drive.google.com/file/d/1ypSKOrFHnQvnop7EkA0jKADWVD5yta1B/view?usp=sharing\n",
    "[screen-01]: https://drive.google.com/file/d/18kPnHg-uCZ-SD2gU2ITnxmxvJ2m4UxPu/view?usp=sharing\n",
    "[screen-02]: https://drive.google.com/file/d/1EaaqP4SY2Q1fdVRTQ0rRRRNVf8PZf5LK/view?usp=sharing"
   ]
  },
  {
   "cell_type": "markdown",
   "metadata": {},
   "source": [
    "### Necessity and Sufficiency\n",
    "\n",
    "Those are terms used to describe a conditional relationship between two statements. Usually, we define those statemets as:\n",
    "\n",
    "$$P$$\n",
    "$$Q$$\n",
    "\n",
    "Where $P$ is the first statement, and $Q$ is the second one.\n",
    "\n",
    "**In a sufficiency relationship** we consider the following logic statement to be `true`:\n",
    "$$P \\longrightarrow Q$$\n",
    "\n",
    "So, `if P` `then Q`. For example:\n",
    "\n",
    "$$\\text{If Plato doesn't know, them no one knows}$$\n",
    "\n",
    "The above example creates a sufficiency relationship, where `Plato doesn't know` is $P$ and `no one knows` is $Q$. Considering this:\n",
    "\n",
    "$$P \\longrightarrow Q$$\n",
    "$$\\text{Plato doesn't know} \\longrightarrow \\text{no one knows}$$\n",
    "\n",
    "Alternatively, **in a necessity relationship**, we have the reciprocal logic. Basically, saying that $P$ is a necessary condition for $Q$ is the same as saying:\n",
    "\n",
    "$$Q \\longrightarrow P$$\n",
    "\n",
    "For example, we can say the following statement:\n",
    "\n",
    "$$\\text {If someone gets home, my dog will bark}$$\n",
    "\n",
    "So, in this example we have:\n",
    "\n",
    "$$\n",
    "P = \\text{someone gets home} \\\\\n",
    "Q = \\text{my dog barks}\n",
    "$$\n",
    "\n",
    "Saying that is the same as saying `My dog barks is a necessity condition for someone to get home`, so:\n",
    "\n",
    "$$\n",
    "Q \\longrightarrow P \\\\\n",
    "\\text{my dog barks} \\longrightarrow \\text{someone gets home}\n",
    "$$\n",
    "\n",
    "#### Wrapping it up\n",
    "* **Sufficiency:** $P \\longrightarrow Q$ ($P$ implies $Q$)\n",
    "* **Necessity:** $Q \\longrightarrow P$ ($Q$ implies $P$)"
   ]
  },
  {
   "cell_type": "markdown",
   "metadata": {},
   "source": [
    "### Types of logical relationships\n",
    "\n",
    "According to my teacher, there are only 10 types of possible logical relationships. We can use those types as we please, but any proposition could be built by using some of those. They are:\n",
    "\n",
    "| Number | Relationship |\n",
    "|--------|--------------|\n",
    "| 01 | $x\\ \\text{is}\\ P$ |\n",
    "| 02 | $x\\ \\text{is in the relationship of}\\ A\\ \\text{with}\\ B$ |\n",
    "| 03 | $\\text{All}\\ A\\ \\text{is}\\ B$ |\n",
    "| 04 | $\\text{Some}\\ A\\ \\text{is}\\ B$ |\n",
    "| 05 | $\\text{No}\\ A\\ \\text{is}\\ B$ |\n",
    "| 06 | $\\text{It is not true that}\\ P$ |\n",
    "| 07 | $P\\ \\text{and}\\ Q$ |\n",
    "| 08 | $P\\ \\text{or}\\ Q$ |\n",
    "| 09 | $\\text{If}\\ P\\text{,}\\ \\text{then}\\ Q$ |\n",
    "| 10 | $P \\text{, se e somente se,}\\ Q$ |"
   ]
  },
  {
   "cell_type": "markdown",
   "metadata": {},
   "source": [
    "## Class 009\n",
    "\n",
    "> **Date:** 2021-04-15  \n",
    "> **Subjects:**  \n",
    "> * [Normal Disjunctive Form](#Normal-Disjunctive-Form)\n",
    "> * [Contraposition](#Contraposition)\n",
    "> * [Logical Distributive Properties](#Logical-Distributive-Properties)\n",
    "> \n",
    "> **References:** \n",
    "> * [Recorded class][class-recording]\n",
    "> * [Notebook][class-notebook]\n",
    "> * [Class Screen 01][screen-01]\n",
    "\n",
    "[class-recording]: https://drive.google.com/file/d/1Y6phKqdnN2uOuoEzDZVbD5SXRG4HLxit/view?usp=sharing\n",
    "[class-notebook]: https://drive.google.com/file/d/1ypSKOrFHnQvnop7EkA0jKADWVD5yta1B/view?usp=sharing\n",
    "[screen-01]: https://drive.google.com/file/d/1Jhx8oBU_gsUQCL6Dpag0IopOe5lzNuuw/view?usp=sharing"
   ]
  },
  {
   "cell_type": "markdown",
   "metadata": {},
   "source": [
    "### Normal Disjunctive Form\n",
    "\n",
    "Consider the following proposition:\n",
    "\n",
    "$$P \\longrightarrow Q$$\n",
    "\n",
    "The **Normal Disjunctive Form** states that we can write any conditional in a disjunctive ($\\lor$) form. So, we state that:\n",
    "\n",
    "$$P \\longrightarrow Q \\equiv\\ \\sim P \\lor Q$$\n",
    "\n",
    "Apllying this to natural language:\n",
    "\n",
    "$$\\text{Se Newton não sabe, então ninguém sabe} \\\\\n",
    "P = \\text{Newton não sabe} \\\\\n",
    "Q = \\text{Ninguém sabe} \\\\\n",
    "\\therefore \\\\\n",
    "P \\longrightarrow Q \\equiv\\ \\sim P \\lor Q \\\\\n",
    "\\therefore \\\\\n",
    "\\text{Ou Newton sabe, ou ninguém sabe}$$\n",
    "\n",
    "To prove that, we can use truth tables. Two propositions are logic equivalent if they have the same truth table. So:\n",
    "\n",
    "| P | Q | $P \\longrightarrow Q$ |\n",
    "|-|-|-|\n",
    "| V | V | V |\n",
    "| V | F | F |\n",
    "| F | V | V |\n",
    "| F | F | V |\n",
    "\n",
    "&nbsp;\n",
    "\n",
    "| P | Q | $\\sim P \\lor Q$ |\n",
    "| - | - | - |\n",
    "| V | V | V |\n",
    "| V | F | F |\n",
    "| F | V | V |\n",
    "| F | F | V |"
   ]
  },
  {
   "cell_type": "markdown",
   "metadata": {},
   "source": [
    "## Contraposition\n",
    "\n",
    "TODO"
   ]
  },
  {
   "cell_type": "markdown",
   "metadata": {},
   "source": [
    "## Logical Distributive Properties\n",
    "\n",
    "TODO"
   ]
  }
 ],
 "metadata": {
  "kernelspec": {
   "display_name": "Python 3.8.5 64-bit ('base': conda)",
   "name": "python385jvsc74a57bd098b0a9b7b4eaaa670588a142fd0a9b87eaafe866f1db4228be72b4211d12040f"
  },
  "language_info": {
   "name": "python",
   "version": ""
  },
  "metadata": {
   "interpreter": {
    "hash": "98b0a9b7b4eaaa670588a142fd0a9b87eaafe866f1db4228be72b4211d12040f"
   }
  },
  "orig_nbformat": 2
 },
 "nbformat": 4,
 "nbformat_minor": 2
}